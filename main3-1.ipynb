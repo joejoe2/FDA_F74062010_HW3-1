{
 "cells": [
  {
   "cell_type": "code",
   "execution_count": 1,
   "metadata": {},
   "outputs": [],
   "source": [
    "import warnings\n",
    "warnings.filterwarnings('ignore')"
   ]
  },
  {
   "cell_type": "code",
   "execution_count": 2,
   "metadata": {},
   "outputs": [
    {
     "name": "stderr",
     "output_type": "stream",
     "text": [
      "Using TensorFlow backend.\n"
     ]
    }
   ],
   "source": [
    "import pandas as pd\n",
    "from sklearn.linear_model import LogisticRegression\n",
    "from sklearn.metrics import accuracy_score\n",
    "from sklearn.svm import SVC\n",
    "import numpy as np\n",
    "from keras.models import Sequential\n",
    "from keras.layers import Dense, Dropout, Activation\n",
    "from keras.utils import np_utils"
   ]
  },
  {
   "cell_type": "markdown",
   "metadata": {},
   "source": [
    "1.讀取資料並顯示資訊，因為是照時間排序故日期欄位先去掉"
   ]
  },
  {
   "cell_type": "code",
   "execution_count": 3,
   "metadata": {},
   "outputs": [
    {
     "name": "stdout",
     "output_type": "stream",
     "text": [
      "<class 'pandas.core.frame.DataFrame'>\n",
      "RangeIndex: 2264 entries, 0 to 2263\n",
      "Data columns (total 6 columns):\n",
      "Date           2264 non-null object\n",
      "Open Price     2264 non-null float64\n",
      "Close Price    2264 non-null float64\n",
      "High Price     2264 non-null float64\n",
      "Low Price      2264 non-null float64\n",
      "Volume         2264 non-null int64\n",
      "dtypes: float64(4), int64(1), object(1)\n",
      "memory usage: 106.2+ KB\n",
      "None\n",
      "          Date  Open Price  Close Price  High Price  Low Price      Volume\n",
      "0  02-Jan-2009      902.99       931.80      934.73     899.35  4048270080\n",
      "1  05-Jan-2009      929.17       927.45      936.63     919.53  5413910016\n",
      "2  06-Jan-2009      931.17       934.70      943.85     927.28  5392620032\n",
      "3  07-Jan-2009      927.45       906.65      927.45     902.37  4704940032\n",
      "4  08-Jan-2009      905.73       909.73      910.00     896.81  4991549952\n"
     ]
    }
   ],
   "source": [
    "data = pd.read_csv(\"train.csv\")\n",
    "test = pd.read_csv(\"test.csv\")\n",
    "\n",
    "print(data.info())\n",
    "print(data.head())\n",
    "\n",
    "del data['Date']"
   ]
  },
  {
   "cell_type": "markdown",
   "metadata": {},
   "source": [
    "2.因為本身的欄位有點少，另外計算dir(漲或跌) dpre(前一天的變化幅度) dh(前一天的最高價變化幅度) dl(前一天的最低價變化幅度)"
   ]
  },
  {
   "cell_type": "code",
   "execution_count": 4,
   "metadata": {},
   "outputs": [],
   "source": [
    "data['dir'] = data['Close Price'] - data['Open Price'] >= 0\n",
    "data['dir'] = data['dir'].map({True: 1.0, False: 0.0})\n",
    "data['dpre'] = data['Open Price'].diff().replace(np.nan, 0.0)\n",
    "data['dh'] = data['High Price'].diff().replace(np.nan, 0.0)\n",
    "data['dl'] = data['Low Price'].diff().replace(np.nan, 0.0)"
   ]
  },
  {
   "cell_type": "markdown",
   "metadata": {},
   "source": [
    "3.計算和dir(漲或跌)的相關係數，取其最高3欄Open Price ,dh ,dl"
   ]
  },
  {
   "cell_type": "code",
   "execution_count": 5,
   "metadata": {},
   "outputs": [
    {
     "name": "stdout",
     "output_type": "stream",
     "text": [
      "Open Price    -0.033407\n",
      "Close Price   -0.013586\n",
      "High Price    -0.024132\n",
      "Low Price     -0.021653\n",
      "Volume        -0.023831\n",
      "dir            1.000000\n",
      "dpre           0.010067\n",
      "dh             0.427708\n",
      "dl             0.460147\n",
      "Name: dir, dtype: float64\n"
     ]
    }
   ],
   "source": [
    "print(data.corr()['dir'])\n",
    "\n",
    "train_x = data[['Open Price' ,'dh', 'dl']]\n",
    "train_y = data[['dir']]"
   ]
  },
  {
   "cell_type": "markdown",
   "metadata": {},
   "source": [
    "4.對test set做同樣處理"
   ]
  },
  {
   "cell_type": "code",
   "execution_count": 6,
   "metadata": {},
   "outputs": [],
   "source": [
    "test['dir'] = test['Close Price'] - test['Open Price'] >= 0\n",
    "test['dir'] = test['dir'].map({True: 1.0, False: 0.0})\n",
    "test['dpre'] = test['Open Price'].diff().replace(np.nan, 0.0)\n",
    "test['dh'] = test['High Price'].diff().replace(np.nan, 0.0)\n",
    "test['dl'] = test['Low Price'].diff().replace(np.nan, 0.0)\n",
    "test_y = test[['dir']]\n",
    "test_x = test[['Open Price', 'dh', 'dl']]"
   ]
  },
  {
   "cell_type": "markdown",
   "metadata": {},
   "source": [
    "5.套用logistic regression 計算在train和test的accuracy"
   ]
  },
  {
   "cell_type": "code",
   "execution_count": 7,
   "metadata": {},
   "outputs": [
    {
     "name": "stdout",
     "output_type": "stream",
     "text": [
      "0.7336572438162544\n",
      "0.7301587301587301\n"
     ]
    }
   ],
   "source": [
    "lcf = LogisticRegression(solver='liblinear', random_state=1012)\n",
    "lcf.fit(train_x, train_y)\n",
    "print(accuracy_score(train_y, lcf.predict(train_x)))\n",
    "print(accuracy_score(test_y, lcf.predict(test_x)))"
   ]
  },
  {
   "cell_type": "markdown",
   "metadata": {},
   "source": [
    "訓練集測試集都很平均約73%"
   ]
  },
  {
   "cell_type": "markdown",
   "metadata": {},
   "source": [
    "6.套用svc 計算在train和test的accuracy"
   ]
  },
  {
   "cell_type": "code",
   "execution_count": 8,
   "metadata": {},
   "outputs": [
    {
     "name": "stdout",
     "output_type": "stream",
     "text": [
      "0.8957597173144877\n",
      "0.5436507936507936\n"
     ]
    }
   ],
   "source": [
    "scf = SVC(random_state=1012, max_iter=500)\n",
    "scf.fit(train_x, train_y)\n",
    "print(accuracy_score(train_y, scf.predict(train_x)))\n",
    "print(accuracy_score(test_y, scf.predict(test_x)))"
   ]
  },
  {
   "cell_type": "markdown",
   "metadata": {},
   "source": [
    "訓練集約有9成的準度，不過測試集就掉下去了"
   ]
  },
  {
   "cell_type": "markdown",
   "metadata": {},
   "source": [
    "7.套用nn 計算在train和test的accuracy (先把資料轉到ndaray)"
   ]
  },
  {
   "cell_type": "code",
   "execution_count": 9,
   "metadata": {},
   "outputs": [
    {
     "name": "stdout",
     "output_type": "stream",
     "text": [
      "WARNING:tensorflow:From C:\\Program Files\\Anaconda3\\lib\\site-packages\\keras\\backend\\tensorflow_backend.py:66: The name tf.get_default_graph is deprecated. Please use tf.compat.v1.get_default_graph instead.\n",
      "\n",
      "WARNING:tensorflow:From C:\\Program Files\\Anaconda3\\lib\\site-packages\\keras\\backend\\tensorflow_backend.py:541: The name tf.placeholder is deprecated. Please use tf.compat.v1.placeholder instead.\n",
      "\n",
      "WARNING:tensorflow:From C:\\Program Files\\Anaconda3\\lib\\site-packages\\keras\\backend\\tensorflow_backend.py:4409: The name tf.random_normal is deprecated. Please use tf.random.normal instead.\n",
      "\n",
      "WARNING:tensorflow:From C:\\Program Files\\Anaconda3\\lib\\site-packages\\keras\\optimizers.py:793: The name tf.train.Optimizer is deprecated. Please use tf.compat.v1.train.Optimizer instead.\n",
      "\n",
      "WARNING:tensorflow:From C:\\Program Files\\Anaconda3\\lib\\site-packages\\keras\\backend\\tensorflow_backend.py:3576: The name tf.log is deprecated. Please use tf.math.log instead.\n",
      "\n",
      "WARNING:tensorflow:From C:\\Program Files\\Anaconda3\\lib\\site-packages\\tensorflow\\python\\ops\\math_grad.py:1250: add_dispatch_support.<locals>.wrapper (from tensorflow.python.ops.array_ops) is deprecated and will be removed in a future version.\n",
      "Instructions for updating:\n",
      "Use tf.where in 2.0, which has the same broadcast rule as np.where\n",
      "WARNING:tensorflow:From C:\\Program Files\\Anaconda3\\lib\\site-packages\\keras\\backend\\tensorflow_backend.py:1033: The name tf.assign_add is deprecated. Please use tf.compat.v1.assign_add instead.\n",
      "\n",
      "Train on 2037 samples, validate on 227 samples\n",
      "Epoch 1/20\n",
      " - 0s - loss: 0.6762 - acc: 0.5724 - val_loss: 0.6682 - val_acc: 0.5859\n",
      "Epoch 2/20\n",
      " - 0s - loss: 0.5846 - acc: 0.7261 - val_loss: 0.6221 - val_acc: 0.6520\n",
      "Epoch 3/20\n",
      " - 0s - loss: 0.5585 - acc: 0.7305 - val_loss: 0.6313 - val_acc: 0.6476\n",
      "Epoch 4/20\n",
      " - 0s - loss: 0.5520 - acc: 0.7374 - val_loss: 0.6255 - val_acc: 0.6476\n",
      "Epoch 5/20\n",
      " - 0s - loss: 0.5506 - acc: 0.7320 - val_loss: 0.6612 - val_acc: 0.5903\n",
      "Epoch 6/20\n",
      " - 0s - loss: 0.5507 - acc: 0.7300 - val_loss: 0.6230 - val_acc: 0.6432\n",
      "Epoch 7/20\n",
      " - 0s - loss: 0.5519 - acc: 0.7300 - val_loss: 0.6385 - val_acc: 0.5815\n",
      "Epoch 8/20\n",
      " - 0s - loss: 0.5471 - acc: 0.7398 - val_loss: 0.6879 - val_acc: 0.5815\n",
      "Epoch 9/20\n",
      " - 0s - loss: 0.5517 - acc: 0.7275 - val_loss: 0.6818 - val_acc: 0.5771\n",
      "Epoch 10/20\n",
      " - 0s - loss: 0.5493 - acc: 0.7329 - val_loss: 0.6178 - val_acc: 0.5991\n",
      "Epoch 11/20\n",
      " - 0s - loss: 0.5477 - acc: 0.7295 - val_loss: 0.6188 - val_acc: 0.6476\n",
      "Epoch 12/20\n",
      " - 0s - loss: 0.5433 - acc: 0.7310 - val_loss: 0.6210 - val_acc: 0.6211\n",
      "Epoch 13/20\n",
      " - 0s - loss: 0.5420 - acc: 0.7354 - val_loss: 0.6095 - val_acc: 0.6344\n",
      "Epoch 14/20\n",
      " - 0s - loss: 0.5425 - acc: 0.7359 - val_loss: 0.6143 - val_acc: 0.6344\n",
      "Epoch 15/20\n",
      " - 0s - loss: 0.5434 - acc: 0.7329 - val_loss: 0.6294 - val_acc: 0.6079\n",
      "Epoch 16/20\n",
      " - 0s - loss: 0.5422 - acc: 0.7339 - val_loss: 0.6262 - val_acc: 0.6035\n",
      "Epoch 17/20\n",
      " - 0s - loss: 0.5405 - acc: 0.7349 - val_loss: 0.6117 - val_acc: 0.6520\n",
      "Epoch 18/20\n",
      " - 0s - loss: 0.5407 - acc: 0.7324 - val_loss: 0.6841 - val_acc: 0.5947\n",
      "Epoch 19/20\n",
      " - 0s - loss: 0.5392 - acc: 0.7388 - val_loss: 0.6170 - val_acc: 0.6079\n",
      "Epoch 20/20\n",
      " - 0s - loss: 0.5408 - acc: 0.7364 - val_loss: 0.6112 - val_acc: 0.6344\n",
      "2264/2264 [==============================] - 0s 8us/step\n",
      "72.96819790092037\n",
      "252/252 [==============================] - 0s 16us/step\n",
      "71.42857161779253\n"
     ]
    }
   ],
   "source": [
    "train_y = np_utils.to_categorical(np.array(data[['dir']]))\n",
    "train_x = np.array(train_x)\n",
    "test_y = np_utils.to_categorical(np.array(test[['dir']]))\n",
    "test_x = np.array(test_x)\n",
    "\n",
    "model = Sequential()\n",
    "\n",
    "model.add(Dense(units=8, input_dim=3, kernel_initializer='normal', activation='relu'))\n",
    "model.add(Dense(units=4, input_dim=6, kernel_initializer='normal', activation='sigmoid'))\n",
    "model.add(Dense(units=2, kernel_initializer='normal', activation='softmax'))\n",
    "\n",
    "model.compile(loss='categorical_crossentropy', optimizer='adam', metrics=['accuracy'])\n",
    "train_history = model.fit(x=train_x, y=train_y, validation_split=0.1, epochs=20, batch_size=5, verbose=2)\n",
    "\n",
    "scores = model.evaluate(train_x, train_y)\n",
    "print(scores[1]*100.0)\n",
    "scores = model.evaluate(test_x, test_y)\n",
    "print(scores[1]*100.0)"
   ]
  },
  {
   "cell_type": "markdown",
   "metadata": {},
   "source": [
    "訓練集的準確度下降了，不過測試集有近7成的準度"
   ]
  },
  {
   "cell_type": "code",
   "execution_count": null,
   "metadata": {},
   "outputs": [],
   "source": []
  }
 ],
 "metadata": {
  "kernelspec": {
   "display_name": "Python 3",
   "language": "python",
   "name": "python3"
  },
  "language_info": {
   "codemirror_mode": {
    "name": "ipython",
    "version": 3
   },
   "file_extension": ".py",
   "mimetype": "text/x-python",
   "name": "python",
   "nbconvert_exporter": "python",
   "pygments_lexer": "ipython3",
   "version": "3.7.3"
  }
 },
 "nbformat": 4,
 "nbformat_minor": 2
}
